{
 "cells": [
  {
   "cell_type": "markdown",
   "id": "cf5ce52f",
   "metadata": {},
   "source": [
    "# Python Assignment: Files, Exception Handling, Logging, and Memory Management"
   ]
  },
  {
   "cell_type": "markdown",
   "id": "6c490011",
   "metadata": {},
   "source": [
    "### Q1: What is the difference between interpreted and compiled languages"
   ]
  },
  {
   "cell_type": "markdown",
   "id": "1ff16c74",
   "metadata": {},
   "source": [
    "**A:** Interpreted languages execute code line by line at runtime (e.g., Python), while compiled languages translate the entire code into machine language before execution (e.g., C++). Interpreted code is easier to debug but slower, whereas compiled code is faster but harder to debug."
   ]
  },
  {
   "cell_type": "markdown",
   "id": "9bdaf61b",
   "metadata": {},
   "source": [
    "### Q2: What is exception handling in Python"
   ]
  },
  {
   "cell_type": "markdown",
   "id": "7ce3e0e2",
   "metadata": {},
   "source": [
    "**A:** Exception handling in Python allows the program to manage errors gracefully using try, except, else, and finally blocks."
   ]
  },
  {
   "cell_type": "markdown",
   "id": "49b895bd",
   "metadata": {},
   "source": [
    "### Q3: What is the purpose of the finally block in exception handling"
   ]
  },
  {
   "cell_type": "markdown",
   "id": "8494bd8e",
   "metadata": {},
   "source": [
    "**A:** The finally block is used to execute code regardless of whether an exception occurred or not, often for cleanup actions like closing files or releasing resources."
   ]
  },
  {
   "cell_type": "markdown",
   "id": "6f066e13",
   "metadata": {},
   "source": [
    "### Q4: What is logging in Python"
   ]
  },
  {
   "cell_type": "markdown",
   "id": "eb9b16b9",
   "metadata": {},
   "source": [
    "**A:** Logging in Python records events that happen during a program's execution to track errors, warnings, or informational messages."
   ]
  },
  {
   "cell_type": "markdown",
   "id": "37522d55",
   "metadata": {},
   "source": [
    "### Q5: What is the significance of the __del__ method in Python"
   ]
  },
  {
   "cell_type": "markdown",
   "id": "4da77bec",
   "metadata": {},
   "source": [
    "**A:** The __del__ method is a destructor in Python, automatically invoked to clean up an object when it is about to be destroyed."
   ]
  },
  {
   "cell_type": "markdown",
   "id": "b8319708",
   "metadata": {},
   "source": [
    "### Q6: What is the difference between import and from ... import in Python"
   ]
  },
  {
   "cell_type": "markdown",
   "id": "89a837c9",
   "metadata": {},
   "source": [
    "**A:** 'import module' imports the entire module, while 'from module import something' imports only a specific part."
   ]
  },
  {
   "cell_type": "markdown",
   "id": "ac5786f4",
   "metadata": {},
   "source": [
    "### Q7: How can you handle multiple exceptions in Python"
   ]
  },
  {
   "cell_type": "markdown",
   "id": "0326d540",
   "metadata": {},
   "source": [
    "**A:** Multiple exceptions can be handled using multiple except blocks or by grouping them in a tuple."
   ]
  },
  {
   "cell_type": "markdown",
   "id": "252dfe1b",
   "metadata": {},
   "source": [
    "### Q8: What is the purpose of the with statement when handling files in Python"
   ]
  },
  {
   "cell_type": "markdown",
   "id": "e883de87",
   "metadata": {},
   "source": [
    "**A:** The with statement ensures that resources like file objects are properly closed after their block of code is executed."
   ]
  },
  {
   "cell_type": "markdown",
   "id": "58b3b608",
   "metadata": {},
   "source": [
    "### Q9: What is the difference between multithreading and multiprocessing"
   ]
  },
  {
   "cell_type": "markdown",
   "id": "8b8380a1",
   "metadata": {},
   "source": [
    "**A:** Multithreading runs threads in the same memory space, suitable for I/O-bound tasks. Multiprocessing uses separate memory spaces for each process, ideal for CPU-bound tasks."
   ]
  },
  {
   "cell_type": "markdown",
   "id": "210480cf",
   "metadata": {},
   "source": [
    "### Q10: What are the advantages of using logging in a program"
   ]
  },
  {
   "cell_type": "markdown",
   "id": "54bafef0",
   "metadata": {},
   "source": [
    "**A:** Logging helps in debugging, monitoring, and maintaining the software by keeping a runtime record of operations."
   ]
  },
  {
   "cell_type": "markdown",
   "id": "2a9ad633",
   "metadata": {},
   "source": [
    "### Q11: What is memory management in Python"
   ]
  },
  {
   "cell_type": "markdown",
   "id": "a1d3f6e0",
   "metadata": {},
   "source": [
    "**A:** Memory management in Python involves automatic allocation and deallocation of memory using reference counting and garbage collection."
   ]
  },
  {
   "cell_type": "markdown",
   "id": "e01d19e0",
   "metadata": {},
   "source": [
    "### Q12: What are the basic steps involved in exception handling in Python"
   ]
  },
  {
   "cell_type": "markdown",
   "id": "4b841d7a",
   "metadata": {},
   "source": [
    "**A:** The steps are: try block to test code, except block to handle error, optional else for code if no error, and finally for cleanup."
   ]
  },
  {
   "cell_type": "markdown",
   "id": "6c2582a8",
   "metadata": {},
   "source": [
    "### Q13: Why is memory management important in Python"
   ]
  },
  {
   "cell_type": "markdown",
   "id": "72facccb",
   "metadata": {},
   "source": [
    "**A:** Proper memory management ensures efficient use of memory resources and prevents memory leaks or crashes."
   ]
  },
  {
   "cell_type": "markdown",
   "id": "f99e8d81",
   "metadata": {},
   "source": [
    "### Q14: What is the role of try and except in exception handling"
   ]
  },
  {
   "cell_type": "markdown",
   "id": "c3fc1b3d",
   "metadata": {},
   "source": [
    "**A:** The try block is used to test code for errors, and the except block handles those errors gracefully."
   ]
  },
  {
   "cell_type": "markdown",
   "id": "ee935aa9",
   "metadata": {},
   "source": [
    "### Q15: How does Python's garbage collection system work"
   ]
  },
  {
   "cell_type": "markdown",
   "id": "ef3f3457",
   "metadata": {},
   "source": [
    "**A:** It uses reference counting and a cyclic garbage collector to reclaim unused memory."
   ]
  },
  {
   "cell_type": "markdown",
   "id": "1f8adf86",
   "metadata": {},
   "source": [
    "### Q16: What is the purpose of the else block in exception handling"
   ]
  },
  {
   "cell_type": "markdown",
   "id": "9f45efcc",
   "metadata": {},
   "source": [
    "**A:** The else block executes code only if no exceptions were raised in the try block."
   ]
  },
  {
   "cell_type": "markdown",
   "id": "44af15bf",
   "metadata": {},
   "source": [
    "### Q17: What are the common logging levels in Python"
   ]
  },
  {
   "cell_type": "markdown",
   "id": "b43ae11d",
   "metadata": {},
   "source": [
    "**A:** DEBUG, INFO, WARNING, ERROR, and CRITICAL."
   ]
  },
  {
   "cell_type": "markdown",
   "id": "85b1bdd5",
   "metadata": {},
   "source": [
    "### Q18: What is the difference between os.fork() and multiprocessing in Python"
   ]
  },
  {
   "cell_type": "markdown",
   "id": "4108fab3",
   "metadata": {},
   "source": [
    "**A:** os.fork() creates a child process on Unix systems, while multiprocessing is a cross-platform module to create and manage processes."
   ]
  },
  {
   "cell_type": "markdown",
   "id": "76f96a3c",
   "metadata": {},
   "source": [
    "### Q19: What is the importance of closing a file in Python"
   ]
  },
  {
   "cell_type": "markdown",
   "id": "fed6c8a7",
   "metadata": {},
   "source": [
    "**A:** Closing a file ensures that data is properly written and resources are released."
   ]
  },
  {
   "cell_type": "markdown",
   "id": "0c709104",
   "metadata": {},
   "source": [
    "### Q20: What is the difference between file.read() and file.readline() in Python"
   ]
  },
  {
   "cell_type": "markdown",
   "id": "11f570a3",
   "metadata": {},
   "source": [
    "**A:** file.read() reads the entire file content, while file.readline() reads a single line at a time."
   ]
  },
  {
   "cell_type": "markdown",
   "id": "c9a58cbf",
   "metadata": {},
   "source": [
    "### Q21: What is the logging module in Python used for"
   ]
  },
  {
   "cell_type": "markdown",
   "id": "050e527e",
   "metadata": {},
   "source": [
    "**A:** To record log messages at different severity levels."
   ]
  },
  {
   "cell_type": "markdown",
   "id": "9e280faa",
   "metadata": {},
   "source": [
    "### Q22: What is the os module in Python used for in file handling"
   ]
  },
  {
   "cell_type": "markdown",
   "id": "f1596166",
   "metadata": {},
   "source": [
    "**A:** It provides functions for interacting with the operating system like checking file existence, path manipulations, etc."
   ]
  },
  {
   "cell_type": "markdown",
   "id": "c4d6e115",
   "metadata": {},
   "source": [
    "### Q23: What are the challenges associated with memory management in Python"
   ]
  },
  {
   "cell_type": "markdown",
   "id": "a8fdc067",
   "metadata": {},
   "source": [
    "**A:** Challenges include circular references, memory leaks, and performance impacts due to unnecessary memory consumption."
   ]
  },
  {
   "cell_type": "markdown",
   "id": "3fbbb384",
   "metadata": {},
   "source": [
    "### Q24: How do you raise an exception manually in Python"
   ]
  },
  {
   "cell_type": "markdown",
   "id": "a35414e3",
   "metadata": {},
   "source": [
    "**A:** By using the raise keyword followed by an exception."
   ]
  },
  {
   "cell_type": "markdown",
   "id": "9fe56c80",
   "metadata": {},
   "source": [
    "### Q25: Why is it important to use multithreading in certain applications"
   ]
  },
  {
   "cell_type": "markdown",
   "id": "65968d62",
   "metadata": {},
   "source": [
    "**A:** Multithreading allows concurrent execution, improving performance in I/O-bound programs."
   ]
  },
  {
   "cell_type": "markdown",
   "id": "23ef2d39",
   "metadata": {},
   "source": [
    "### Q1: How can you open a file for writing in Python and write a string to it"
   ]
  },
  {
   "cell_type": "code",
   "execution_count": 3,
   "id": "56cc4689",
   "metadata": {},
   "outputs": [],
   "source": [
    "with open('example.txt', 'w') as file:\n",
    "    file.write('Hello, World!')"
   ]
  },
  {
   "cell_type": "markdown",
   "id": "f0af161a",
   "metadata": {},
   "source": [
    "### Q2: Write a Python program to read the contents of a file and print each line"
   ]
  },
  {
   "cell_type": "code",
   "execution_count": 7,
   "id": "9ac54714",
   "metadata": {},
   "outputs": [
    {
     "name": "stdout",
     "output_type": "stream",
     "text": [
      "Hello, World!\n"
     ]
    }
   ],
   "source": [
    "with open('example.txt', 'r') as file:\n",
    "    for line in file:\n",
    "        print(line.strip())"
   ]
  },
  {
   "cell_type": "markdown",
   "id": "25a6c0e7",
   "metadata": {},
   "source": [
    "### Q3: How would you handle a case where the file doesn't exist while trying to open it for reading"
   ]
  },
  {
   "cell_type": "code",
   "execution_count": 15,
   "id": "266215d5",
   "metadata": {},
   "outputs": [
    {
     "name": "stdout",
     "output_type": "stream",
     "text": [
      "File not found.\n"
     ]
    }
   ],
   "source": [
    "try:\n",
    "    with open('nonexistent.txt', 'r') as file:\n",
    "        content = file.read()\n",
    "except FileNotFoundError:\n",
    "    print('File not found.')"
   ]
  },
  {
   "cell_type": "markdown",
   "id": "0a95bda7",
   "metadata": {},
   "source": [
    "### Q4: Write a Python script that reads from one file and writes its content to another file"
   ]
  },
  {
   "cell_type": "code",
   "execution_count": 35,
   "id": "f0f45b8b",
   "metadata": {},
   "outputs": [
    {
     "name": "stdout",
     "output_type": "stream",
     "text": [
      "File content copied successfully.\n"
     ]
    }
   ],
   "source": [
    "# Creating a source file with sample content\n",
    "with open('source.txt', 'w') as source_file:\n",
    "    source_file.write(\"This is the content of the source file.\\nIt has multiple lines.\\nEnjoy copying!\")\n",
    "\n",
    "# Reading from source.txt and writing to destination.txt\n",
    "try:\n",
    "    with open('source.txt', 'r') as source_file:\n",
    "        content = source_file.read()\n",
    "\n",
    "    with open('destination.txt', 'w') as destination_file:\n",
    "        destination_file.write(content)\n",
    "\n",
    "    print(\"File content copied successfully.\")\n",
    "\n",
    "except FileNotFoundError:\n",
    "    print(\"The source file was not found.\")\n"
   ]
  },
  {
   "cell_type": "markdown",
   "id": "ed473e1b",
   "metadata": {},
   "source": [
    "### Q5: How would you catch and handle division by zero error in Python"
   ]
  },
  {
   "cell_type": "code",
   "execution_count": 38,
   "id": "d5df6381",
   "metadata": {},
   "outputs": [
    {
     "name": "stdout",
     "output_type": "stream",
     "text": [
      "Cannot divide by zero.\n"
     ]
    }
   ],
   "source": [
    "try:\n",
    "    result = 10 / 0\n",
    "except ZeroDivisionError:\n",
    "    print('Cannot divide by zero.')"
   ]
  },
  {
   "cell_type": "markdown",
   "id": "dff602ae",
   "metadata": {},
   "source": [
    "### Q6: Write a Python program that logs an error message to a log file when a division by zero exception occurs"
   ]
  },
  {
   "cell_type": "code",
   "execution_count": 44,
   "id": "39d891e3",
   "metadata": {},
   "outputs": [],
   "source": [
    "import logging\n",
    "logging.basicConfig(filename='error.log', level=logging.ERROR)\n",
    "try:\n",
    "    result = 10 / 0\n",
    "except ZeroDivisionError as e:\n",
    "    logging.error('Division by zero error occurred: %s', e)"
   ]
  },
  {
   "cell_type": "markdown",
   "id": "d3a12f5c",
   "metadata": {},
   "source": [
    "### Q7: How do you log information at different levels (INFO, ERROR, WARNING) in Python using the logging module"
   ]
  },
  {
   "cell_type": "code",
   "execution_count": 52,
   "id": "613e8f12",
   "metadata": {},
   "outputs": [],
   "source": [
    "import logging\n",
    "logging.basicConfig(level=logging.DEBUG)\n",
    "logging.info('This is an info message')\n",
    "logging.warning('This is a warning message')\n",
    "logging.error('This is an error message')"
   ]
  },
  {
   "cell_type": "markdown",
   "id": "7c72c405",
   "metadata": {},
   "source": [
    "### Q8: Write a program to handle a file opening error using exception handling"
   ]
  },
  {
   "cell_type": "code",
   "execution_count": 64,
   "id": "8dd00107",
   "metadata": {},
   "outputs": [
    {
     "name": "stdout",
     "output_type": "stream",
     "text": [
      "The file does not exist.\n"
     ]
    }
   ],
   "source": [
    "try:\n",
    "    with open('nonexistent.txt', 'r') as f:\n",
    "        data = f.read()\n",
    "except FileNotFoundError:\n",
    "    print('The file does not exist.')"
   ]
  },
  {
   "cell_type": "markdown",
   "id": "bc6abe51",
   "metadata": {},
   "source": [
    "### Q9: How can you read a file line by line and store its content in a list in Python"
   ]
  },
  {
   "cell_type": "code",
   "execution_count": 68,
   "id": "f23c48ae",
   "metadata": {},
   "outputs": [],
   "source": [
    "with open('example.txt', 'r') as file:\n",
    "    lines = file.readlines()"
   ]
  },
  {
   "cell_type": "markdown",
   "id": "bab923a1",
   "metadata": {},
   "source": [
    "### Q10: How can you append data to an existing file in Python"
   ]
  },
  {
   "cell_type": "code",
   "execution_count": 73,
   "id": "20adda9a",
   "metadata": {},
   "outputs": [],
   "source": [
    "with open('example.txt', 'a') as file:\n",
    "    file.write('\\nAppended text.')"
   ]
  },
  {
   "cell_type": "markdown",
   "id": "6b55f5e3",
   "metadata": {},
   "source": [
    "### Q11: Write a Python program that uses a try-except block to handle an error when attempting to access a dictionary key that doesn't exist"
   ]
  },
  {
   "cell_type": "code",
   "execution_count": 83,
   "id": "ff2a1e43",
   "metadata": {},
   "outputs": [
    {
     "name": "stdout",
     "output_type": "stream",
     "text": [
      "Key not found.\n"
     ]
    }
   ],
   "source": [
    "data = {'a': 1}\n",
    "try:\n",
    "    print(data['b'])\n",
    "except KeyError:\n",
    "    print('Key not found.')"
   ]
  },
  {
   "cell_type": "markdown",
   "id": "a50a10d9",
   "metadata": {},
   "source": [
    "### Q12: Write a program that demonstrates using multiple except blocks to handle different types of exceptions"
   ]
  },
  {
   "cell_type": "code",
   "execution_count": 88,
   "id": "ef0559c5",
   "metadata": {},
   "outputs": [
    {
     "name": "stdout",
     "output_type": "stream",
     "text": [
      "Cannot divide by zero\n"
     ]
    }
   ],
   "source": [
    "try:\n",
    "    x = 1 / 0\n",
    "except ZeroDivisionError:\n",
    "    print('Cannot divide by zero')\n",
    "except TypeError:\n",
    "    print('Type error occurred')"
   ]
  },
  {
   "cell_type": "markdown",
   "id": "a62ee938",
   "metadata": {},
   "source": [
    "### Q13: How would you check if a file exists before attempting to read it in Python"
   ]
  },
  {
   "cell_type": "code",
   "execution_count": 94,
   "id": "302ac58e",
   "metadata": {},
   "outputs": [],
   "source": [
    "import os\n",
    "if os.path.exists('example.txt'):\n",
    "    with open('example.txt') as file:\n",
    "        content = file.read()\n",
    "else:\n",
    "    print('File does not exist.')"
   ]
  },
  {
   "cell_type": "markdown",
   "id": "31f83e3f",
   "metadata": {},
   "source": [
    "\n",
    "### Q14: Write a program that uses the logging module to log both informational and error messages"
   ]
  },
  {
   "cell_type": "code",
   "execution_count": 100,
   "id": "94d7d28a",
   "metadata": {},
   "outputs": [],
   "source": [
    "import logging\n",
    "logging.basicConfig(filename='logfile.log', level=logging.INFO)\n",
    "logging.info('Informational message')\n",
    "try:\n",
    "    1 / 0\n",
    "except ZeroDivisionError as e:\n",
    "    logging.error('Error occurred: %s', e)"
   ]
  },
  {
   "cell_type": "markdown",
   "id": "8fc59d2f",
   "metadata": {},
   "source": [
    "### Q15: Write a Python program that prints the content of a file and handles the case when the file is empty"
   ]
  },
  {
   "cell_type": "code",
   "execution_count": 107,
   "id": "5b08c399",
   "metadata": {},
   "outputs": [
    {
     "name": "stdout",
     "output_type": "stream",
     "text": [
      "Hello, World!\n",
      "Appended text.\n",
      "Appended text.\n",
      "Appended text.\n",
      "Appended text.\n",
      "Appended text.\n"
     ]
    }
   ],
   "source": [
    "with open('example.txt', 'r') as file:\n",
    "    content = file.read()\n",
    "    if not content:\n",
    "        print('File is empty')\n",
    "    else:\n",
    "        print(content)"
   ]
  },
  {
   "cell_type": "markdown",
   "id": "6a31baba",
   "metadata": {},
   "source": [
    "### Q16: Demonstrate how to use memory profiling to check the memory usage of a small program"
   ]
  },
  {
   "cell_type": "code",
   "execution_count": 127,
   "id": "b13c2c2b",
   "metadata": {},
   "outputs": [
    {
     "ename": "ModuleNotFoundError",
     "evalue": "No module named 'memory_profiler'",
     "output_type": "error",
     "traceback": [
      "\u001b[1;31m---------------------------------------------------------------------------\u001b[0m",
      "\u001b[1;31mModuleNotFoundError\u001b[0m                       Traceback (most recent call last)",
      "Cell \u001b[1;32mIn[127], line 2\u001b[0m\n\u001b[0;32m      1\u001b[0m \u001b[38;5;66;03m# pip install memory-profiler\u001b[39;00m\n\u001b[1;32m----> 2\u001b[0m \u001b[38;5;28;01mfrom\u001b[39;00m \u001b[38;5;21;01mmemory_profiler\u001b[39;00m \u001b[38;5;28;01mimport\u001b[39;00m profile\n\u001b[0;32m      4\u001b[0m \u001b[38;5;129m@profile\u001b[39m\n\u001b[0;32m      5\u001b[0m \u001b[38;5;28;01mdef\u001b[39;00m \u001b[38;5;21mmy_func\u001b[39m():\n\u001b[0;32m      6\u001b[0m     a \u001b[38;5;241m=\u001b[39m [i \u001b[38;5;28;01mfor\u001b[39;00m i \u001b[38;5;129;01min\u001b[39;00m \u001b[38;5;28mrange\u001b[39m(\u001b[38;5;241m10000\u001b[39m)]\n",
      "\u001b[1;31mModuleNotFoundError\u001b[0m: No module named 'memory_profiler'"
     ]
    }
   ],
   "source": [
    "# pip install memory-profiler\n",
    "from memory_profiler import profile\n",
    "\n",
    "@profile\n",
    "def my_func():\n",
    "    a = [i for i in range(10000)]\n",
    "    return a\n",
    "\n",
    "my_func()"
   ]
  },
  {
   "cell_type": "markdown",
   "id": "3df918d8",
   "metadata": {},
   "source": [
    "### Q17: Write a Python program to create and write a list of numbers to a file, one number per line"
   ]
  },
  {
   "cell_type": "code",
   "execution_count": 130,
   "id": "cc3d7bc1",
   "metadata": {},
   "outputs": [],
   "source": [
    "numbers = [1, 2, 3, 4, 5]\n",
    "with open('numbers.txt', 'w') as f:\n",
    "    for number in numbers:\n",
    "        f.write(f'{number}\\n')"
   ]
  },
  {
   "cell_type": "markdown",
   "id": "eb4ca6aa",
   "metadata": {},
   "source": [
    "\n",
    "### Q18: How would you implement a basic logging setup that logs to a file with rotation after 1MB"
   ]
  },
  {
   "cell_type": "code",
   "execution_count": 136,
   "id": "a030c7e8",
   "metadata": {},
   "outputs": [],
   "source": [
    "import logging\n",
    "from logging.handlers import RotatingFileHandler\n",
    "handler = RotatingFileHandler('app.log', maxBytes=1048576, backupCount=3)\n",
    "logging.basicConfig(handlers=[handler], level=logging.INFO)\n",
    "logging.info('This is a log message')"
   ]
  },
  {
   "cell_type": "markdown",
   "id": "67cc02e9",
   "metadata": {},
   "source": [
    "### Q19: Write a program that handles both IndexError and KeyError using a try-except block"
   ]
  },
  {
   "cell_type": "code",
   "execution_count": 143,
   "id": "25a4035e",
   "metadata": {},
   "outputs": [
    {
     "name": "stdout",
     "output_type": "stream",
     "text": [
      "Index out of range\n"
     ]
    }
   ],
   "source": [
    "try:\n",
    "    lst = [1, 2, 3]\n",
    "    print(lst[5])\n",
    "    dct = {'a': 1}\n",
    "    print(dct['b'])\n",
    "except IndexError:\n",
    "    print('Index out of range')\n",
    "except KeyError:\n",
    "    print('Key not found')"
   ]
  },
  {
   "cell_type": "markdown",
   "id": "27950f43",
   "metadata": {},
   "source": [
    "### Q20: How would you open a file and read its contents using a context manager in Python"
   ]
  },
  {
   "cell_type": "code",
   "execution_count": 146,
   "id": "f8e4d9c8",
   "metadata": {},
   "outputs": [
    {
     "name": "stdout",
     "output_type": "stream",
     "text": [
      "Hello, World!\n",
      "Appended text.\n",
      "Appended text.\n",
      "Appended text.\n",
      "Appended text.\n",
      "Appended text.\n"
     ]
    }
   ],
   "source": [
    "with open('example.txt', 'r') as file:\n",
    "    print(file.read())"
   ]
  },
  {
   "cell_type": "markdown",
   "id": "b196e683",
   "metadata": {},
   "source": [
    "### Q21: Write a Python program that reads a file and prints the number of occurrences of a specific word"
   ]
  },
  {
   "cell_type": "code",
   "execution_count": 151,
   "id": "806895c2",
   "metadata": {},
   "outputs": [
    {
     "name": "stdout",
     "output_type": "stream",
     "text": [
      "0\n"
     ]
    }
   ],
   "source": [
    "word_to_count = 'python'\n",
    "with open('example.txt', 'r') as file:\n",
    "    content = file.read()\n",
    "    print(content.lower().count(word_to_count))"
   ]
  },
  {
   "cell_type": "markdown",
   "id": "387c4fa2",
   "metadata": {},
   "source": [
    "### Q22: How can you check if a file is empty before attempting to read its contents"
   ]
  },
  {
   "cell_type": "code",
   "execution_count": 153,
   "id": "bafc35a2",
   "metadata": {},
   "outputs": [
    {
     "name": "stdout",
     "output_type": "stream",
     "text": [
      "Hello, World!\n",
      "Appended text.\n",
      "Appended text.\n",
      "Appended text.\n",
      "Appended text.\n",
      "Appended text.\n"
     ]
    }
   ],
   "source": [
    "import os\n",
    "if os.stat('example.txt').st_size == 0:\n",
    "    print('File is empty')\n",
    "else:\n",
    "    with open('example.txt', 'r') as file:\n",
    "        print(file.read())"
   ]
  },
  {
   "cell_type": "markdown",
   "id": "32b7b350",
   "metadata": {},
   "source": [
    "### Q23: Write a Python program that writes to a log file when an error occurs during file handling"
   ]
  },
  {
   "cell_type": "code",
   "execution_count": 160,
   "id": "a4177127",
   "metadata": {},
   "outputs": [],
   "source": [
    "import logging\n",
    "logging.basicConfig(filename='file_error.log', level=logging.ERROR)\n",
    "try:\n",
    "    with open('nonexistent.txt', 'r') as f:\n",
    "        f.read()\n",
    "except Exception as e:\n",
    "    logging.error('Error occurred: %s', e)"
   ]
  },
  {
   "cell_type": "code",
   "execution_count": null,
   "id": "4cdec15a-54e2-47b0-a805-14ba515aff52",
   "metadata": {},
   "outputs": [],
   "source": []
  },
  {
   "cell_type": "code",
   "execution_count": null,
   "id": "dc882b0d-8403-42e2-b66f-87d1ad407094",
   "metadata": {},
   "outputs": [],
   "source": []
  }
 ],
 "metadata": {
  "kernelspec": {
   "display_name": "Python 3 (ipykernel)",
   "language": "python",
   "name": "python3"
  },
  "language_info": {
   "codemirror_mode": {
    "name": "ipython",
    "version": 3
   },
   "file_extension": ".py",
   "mimetype": "text/x-python",
   "name": "python",
   "nbconvert_exporter": "python",
   "pygments_lexer": "ipython3",
   "version": "3.12.7"
  }
 },
 "nbformat": 4,
 "nbformat_minor": 5
}
